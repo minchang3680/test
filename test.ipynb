{
 "cells": [
  {
   "cell_type": "code",
   "execution_count": 11,
   "metadata": {},
   "outputs": [],
   "source": [
    "import cv2\n",
    "dog = \"image/dog.jpg\""
   ]
  },
  {
   "cell_type": "code",
   "execution_count": 36,
   "metadata": {},
   "outputs": [
    {
     "name": "stdout",
     "output_type": "stream",
     "text": [
      "[[[ 81  85  90]\n",
      "  [ 81  85  90]\n",
      "  [ 77  83  90]\n",
      "  ...\n",
      "  [ 74 113 157]\n",
      "  [ 74 113 157]\n",
      "  [ 73 112 156]]\n",
      "\n",
      " [[ 81  85  90]\n",
      "  [ 81  85  90]\n",
      "  [ 77  83  90]\n",
      "  ...\n",
      "  [ 71 110 154]\n",
      "  [ 70 109 153]\n",
      "  [ 69 108 152]]\n",
      "\n",
      " [[ 81  85  90]\n",
      "  [ 81  85  90]\n",
      "  [ 77  83  90]\n",
      "  ...\n",
      "  [ 66 105 149]\n",
      "  [ 65 104 148]\n",
      "  [ 65 104 148]]\n",
      "\n",
      " ...\n",
      "\n",
      " [[163 189 206]\n",
      "  [163 189 206]\n",
      "  [163 189 206]\n",
      "  ...\n",
      "  [170 191 206]\n",
      "  [170 191 206]\n",
      "  [170 191 206]]\n",
      "\n",
      " [[163 189 206]\n",
      "  [163 189 206]\n",
      "  [163 189 206]\n",
      "  ...\n",
      "  [170 191 206]\n",
      "  [170 191 206]\n",
      "  [170 191 206]]\n",
      "\n",
      " [[163 189 206]\n",
      "  [163 189 206]\n",
      "  [163 189 206]\n",
      "  ...\n",
      "  [170 191 206]\n",
      "  [170 191 206]\n",
      "  [170 191 206]]]\n"
     ]
    }
   ],
   "source": [
    "img = cv2.imread(\"image/dog.jpg\")\n",
    "print(img)"
   ]
  },
  {
   "cell_type": "code",
   "execution_count": 39,
   "metadata": {},
   "outputs": [
    {
     "name": "stdout",
     "output_type": "stream",
     "text": [
      "113\n"
     ]
    }
   ],
   "source": [
    "cv2.imshow(\"image\",img)\n",
    "key = cv2.waitKey(0)\n",
    "print(key)\n",
    "cv2.destroyAllWindows()"
   ]
  },
  {
   "cell_type": "code",
   "execution_count": 31,
   "metadata": {},
   "outputs": [
    {
     "name": "stdout",
     "output_type": "stream",
     "text": [
      "-1\n"
     ]
    }
   ],
   "source": [
    "img_defult = cv2.imread(dog,cv2.IMREAD_COLOR)\n",
    "img_gray = cv2.imread(dog,cv2.IMREAD_GRAYSCALE)\n",
    "img_unchanged = cv2.imread(dog,cv2.IMREAD_UNCHANGED)\n",
    "cv2.imshow(\"defult\",img_defult)\n",
    "cv2.imshow(\"gray\",img_gray)\n",
    "cv2.imshow(\"unchange\",img_unchanged)\n",
    "key = cv2.waitKey(0)\n",
    "print(key)\n",
    "cv2.destroyAllWindows()"
   ]
  },
  {
   "cell_type": "code",
   "execution_count": 34,
   "metadata": {},
   "outputs": [
    {
     "name": "stdout",
     "output_type": "stream",
     "text": [
      "428 639 3\n"
     ]
    }
   ],
   "source": [
    "img_defult = cv2.imread(dog,cv2.IMREAD_COLOR)\n",
    "img_gray = cv2.imread(dog,cv2.IMREAD_GRAYSCALE)\n",
    "img_unchanged = cv2.imread(dog,cv2.IMREAD_UNCHANGED)\n",
    "\n",
    "height, weight, channel = img_defult.shape\n",
    "print(height,weight,channel)"
   ]
  },
  {
   "cell_type": "code",
   "execution_count": 52,
   "metadata": {},
   "outputs": [
    {
     "name": "stdout",
     "output_type": "stream",
     "text": [
      "113\n"
     ]
    }
   ],
   "source": [
    "cc = cv2.imread(\"image/dog.jpg\")\n",
    "cv2.imshow(\"dog\",cc)\n",
    "key = cv2.waitKey(0)\n",
    "if key == ord(\"q\"):\n",
    "    cv2.destroyAllWindows()\n",
    "\n",
    "print(key)"
   ]
  },
  {
   "cell_type": "code",
   "execution_count": 58,
   "metadata": {},
   "outputs": [],
   "source": [
    "gray = cv2.imread(\"image/dog.jpg\",cv2.IMREAD_GRAYSCALE)\n",
    "cv2.imwrite(\"output/graydog.jpg\",gray)\n",
    "cv2.imshow(\"gary\",gray)\n",
    "key = cv2.waitKey(0)\n",
    "if key == ord(\"q\"):\n",
    "    cv2.destroyAllWindows()"
   ]
  },
  {
   "cell_type": "code",
   "execution_count": 2,
   "metadata": {},
   "outputs": [],
   "source": [
    "import cv2\n",
    "whale = \"videos/whale.mp4\""
   ]
  },
  {
   "cell_type": "code",
   "execution_count": 4,
   "metadata": {},
   "outputs": [],
   "source": [
    "cap = cv2.VideoCapture(whale)\n",
    "\n",
    "while cap.isOpened():\n",
    "    ret, frame = cap.read()\n",
    "\n",
    "    if not ret:\n",
    "        break\n",
    "\n",
    "    cv2.imshow(\"video\",frame)\n",
    "\n",
    "    if cv2.waitKey(1) == ord(\"q\"):\n",
    "        break\n",
    "\n",
    "cap.release()\n",
    "cv2.destroyAllWindows()\n"
   ]
  },
  {
   "cell_type": "code",
   "execution_count": 2,
   "metadata": {},
   "outputs": [],
   "source": [
    "import numpy as np\n",
    "import cv2\n",
    "\n",
    "img = np.zeros((460,630,3), dtype= np.uint8)\n",
    "cv2.imshow(\"img\",img)\n",
    "cv2.waitKey()\n",
    "cv2.destroyAllWindows()"
   ]
  },
  {
   "cell_type": "code",
   "execution_count": 4,
   "metadata": {},
   "outputs": [],
   "source": [
    "img = np.zeros((460,630,3), dtype= np.uint8)\n",
    "img[100:200, 200:300] = (255,255,255)\n",
    "\n",
    "cv2.imshow(\"img\",img)\n",
    "cv2.waitKey(0)\n",
    "cv2.destroyAllWindows()"
   ]
  },
  {
   "cell_type": "code",
   "execution_count": 6,
   "metadata": {},
   "outputs": [],
   "source": [
    "img = np.zeros((460,630,3),dtype = np.uint8)\n",
    "\n",
    "COLOR = (0,255,255)\n",
    "THICKNESS = 3\n",
    "\n",
    "cv2.line(img,(50,100),(400,50),COLOR,THICKNESS,cv2.LINE_4)\n",
    "cv2.line(img,(50,200),(400,150),COLOR,THICKNESS,cv2.LINE_8)\n",
    "cv2.line(img,(50,300),(400,250),COLOR,THICKNESS,cv2.LINE_AA)\n",
    "\n",
    "cv2.imshow(\"img\",img)\n",
    "cv2.waitKey(0)\n",
    "cv2.destroyAllWindows()"
   ]
  },
  {
   "cell_type": "code",
   "execution_count": 4,
   "metadata": {},
   "outputs": [],
   "source": [
    "cap = cv2.VideoCapture(\"videos/whale.mp4\")\n",
    "\n",
    "if not cap.isOpened():\n",
    "    exit()\n",
    "\n",
    "while True:\n",
    "    ret , frame = cap.read()\n",
    "\n",
    "    if not ret:\n",
    "        break\n",
    "\n",
    "    resize = cv2.resize(frame,None,fx=1.5,fy=1.5,interpolation=cv2.INTER_AREA)\n",
    "\n",
    "    cv2.imshow(\"resize\",resize)\n",
    "    cv2.imshow(\"frame\",frame)\n",
    "    \n",
    "    if cv2.waitKey(1) == ord('q'):\n",
    "        break\n",
    "\n",
    "cap.release()\n",
    "cv2.destroyAllWindows()"
   ]
  },
  {
   "cell_type": "code",
   "execution_count": null,
   "metadata": {},
   "outputs": [
    {
     "data": {
      "text/plain": [
       "<function destroyAllWindows>"
      ]
     },
     "execution_count": 1,
     "metadata": {},
     "output_type": "execute_result"
    },
    {
     "ename": "",
     "evalue": "",
     "output_type": "error",
     "traceback": [
      "\u001b[1;31mThe Kernel crashed while executing code in the current cell or a previous cell. \n",
      "\u001b[1;31mPlease review the code in the cell(s) to identify a possible cause of the failure. \n",
      "\u001b[1;31mClick <a href='https://aka.ms/vscodeJupyterKernelCrash'>here</a> for more info. \n",
      "\u001b[1;31mView Jupyter <a href='command:jupyter.viewOutput'>log</a> for further details."
     ]
    }
   ],
   "source": [
    "import cv2\n",
    "import numpy as np\n",
    "\n",
    "img = cv2.imread(\"image/dog.jpg\")\n",
    "\n",
    "size_up = cv2.pyrUp(img)\n",
    "size_down = cv2.pyrDown(img)\n",
    "\n",
    "cv2.imshow(\"size_up\",size_up)\n",
    "cv2.imshow(\"size_down\",size_down)\n",
    "cv2.imshow(\"original\",img)\n",
    "\n",
    "cv2.waitKey(0)\n",
    "cv2.destroyAllWindows"
   ]
  }
 ],
 "metadata": {
  "kernelspec": {
   "display_name": "base",
   "language": "python",
   "name": "python3"
  },
  "language_info": {
   "codemirror_mode": {
    "name": "ipython",
    "version": 3
   },
   "file_extension": ".py",
   "mimetype": "text/x-python",
   "name": "python",
   "nbconvert_exporter": "python",
   "pygments_lexer": "ipython3",
   "version": "3.12.7"
  }
 },
 "nbformat": 4,
 "nbformat_minor": 2
}
